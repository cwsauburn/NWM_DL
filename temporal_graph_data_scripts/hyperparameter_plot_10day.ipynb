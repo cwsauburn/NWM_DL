{
 "cells": [
  {
   "cell_type": "code",
   "execution_count": 1,
   "id": "e95ee38e",
   "metadata": {},
   "outputs": [
    {
     "name": "stdout",
     "output_type": "stream",
     "text": [
      "Epoch 1/20\n",
      "135/135 [==============================] - 1s 7ms/step - loss: 0.7135 - mae: 0.1771 - val_loss: 0.5709 - val_mae: 0.1659\n",
      "Epoch 2/20\n",
      "135/135 [==============================] - 1s 6ms/step - loss: 0.6886 - mae: 0.1633 - val_loss: 0.5376 - val_mae: 0.1822\n",
      "Epoch 3/20\n",
      "135/135 [==============================] - 1s 6ms/step - loss: 0.6775 - mae: 0.1632 - val_loss: 0.5328 - val_mae: 0.1563\n",
      "Epoch 4/20\n",
      "135/135 [==============================] - 1s 6ms/step - loss: 0.6698 - mae: 0.1596 - val_loss: 0.5395 - val_mae: 0.1458\n",
      "Epoch 5/20\n",
      "135/135 [==============================] - 1s 6ms/step - loss: 0.6627 - mae: 0.1589 - val_loss: 0.5337 - val_mae: 0.1457\n",
      "Epoch 6/20\n",
      "135/135 [==============================] - 1s 6ms/step - loss: 0.6598 - mae: 0.1582 - val_loss: 0.5299 - val_mae: 0.1668\n",
      "Epoch 7/20\n",
      "135/135 [==============================] - 1s 6ms/step - loss: 0.6532 - mae: 0.1583 - val_loss: 0.5250 - val_mae: 0.1672\n",
      "Epoch 8/20\n",
      "135/135 [==============================] - 1s 6ms/step - loss: 0.6540 - mae: 0.1577 - val_loss: 0.5739 - val_mae: 0.1758\n",
      "Epoch 9/20\n",
      "135/135 [==============================] - 1s 6ms/step - loss: 0.6508 - mae: 0.1557 - val_loss: 0.5685 - val_mae: 0.1577\n",
      "Epoch 10/20\n",
      "135/135 [==============================] - 1s 6ms/step - loss: 0.6479 - mae: 0.1552 - val_loss: 0.5237 - val_mae: 0.1433\n",
      "Epoch 11/20\n",
      "135/135 [==============================] - 1s 6ms/step - loss: 0.6517 - mae: 0.1550 - val_loss: 0.5513 - val_mae: 0.1544\n",
      "Epoch 12/20\n",
      "135/135 [==============================] - 1s 6ms/step - loss: 0.6526 - mae: 0.1546 - val_loss: 0.5600 - val_mae: 0.1513\n",
      "Epoch 13/20\n",
      "135/135 [==============================] - 1s 6ms/step - loss: 0.6451 - mae: 0.1544 - val_loss: 0.5314 - val_mae: 0.1452\n",
      "Epoch 14/20\n",
      "135/135 [==============================] - 1s 6ms/step - loss: 0.6418 - mae: 0.1532 - val_loss: 0.5561 - val_mae: 0.1648\n",
      "Epoch 15/20\n",
      "135/135 [==============================] - 1s 6ms/step - loss: 0.6464 - mae: 0.1541 - val_loss: 0.5149 - val_mae: 0.1486\n",
      "Epoch 16/20\n",
      "135/135 [==============================] - 1s 6ms/step - loss: 0.6476 - mae: 0.1544 - val_loss: 0.5194 - val_mae: 0.1458\n",
      "Epoch 17/20\n",
      "135/135 [==============================] - 1s 6ms/step - loss: 0.6444 - mae: 0.1536 - val_loss: 0.5508 - val_mae: 0.1424\n",
      "Epoch 18/20\n",
      "135/135 [==============================] - 1s 6ms/step - loss: 0.6474 - mae: 0.1534 - val_loss: 0.5245 - val_mae: 0.1468\n",
      "Epoch 19/20\n",
      "135/135 [==============================] - 1s 6ms/step - loss: 0.6439 - mae: 0.1531 - val_loss: 0.5282 - val_mae: 0.1719\n",
      "Epoch 20/20\n",
      "135/135 [==============================] - 1s 6ms/step - loss: 0.6440 - mae: 0.1530 - val_loss: 0.5809 - val_mae: 0.1743\n"
     ]
    }
   ],
   "source": [
    "import pandas as pd \n",
    "import numpy as np\n",
    "from sklearn.model_selection import train_test_split\n",
    "from keras.models import Sequential\n",
    "from keras.layers import Dense\n",
    "from keras import layers\n",
    "from keras.layers import LSTM\n",
    "from keras import backend as K \n",
    "\n",
    "import matplotlib.pyplot as plt\n",
    "\n",
    "from sklearn.metrics import mean_absolute_error\n",
    " \n",
    "\n",
    "df = pd.read_csv('C:/Users/Sathish Akula/python_scripts/NWM_ML_Scripts/0to30_lead_data/out_lead_10day_data.csv',delimiter = '\\t')\n",
    "\n",
    "df=df.sample(frac=1).reset_index(drop=True)\n",
    "\n",
    "\n",
    "df.iloc[:,16] =abs(df.iloc[:,16] - df.iloc[:,15])\n",
    "\n",
    "x, y = df.iloc[:, 1:16], df.iloc[:,16]\n",
    "\n",
    "y = y.values.reshape(y.shape[0],1)\n",
    "x_train, x_test, y_train, y_test = \\\n",
    "train_test_split(x, y, test_size=0.1, \n",
    "                                 random_state=0)\n",
    "x_mean = x_train.mean(axis=0)\n",
    "x_train -= x_mean\n",
    "x_std = x_train.std(axis=0)\n",
    "x_train /= x_std\n",
    "\n",
    "x_test -= x_mean\n",
    "x_test /= x_std \n",
    "\n",
    "y_mean = y_train.mean(axis=0)\n",
    "y_train -=y_mean\n",
    "y_std=y_train.std(axis=0)\n",
    "y_train /=y_std\n",
    "\n",
    "y_test -=y_mean\n",
    "y_test /=y_std\n",
    "\n",
    "\n",
    "from keras.models import Sequential\n",
    "from keras.layers import Dense\n",
    "from keras import layers\n",
    "from keras.layers import LSTM\n",
    "from keras import backend as K \n",
    "\n",
    "\n",
    "model= Sequential()\n",
    "\n",
    "model.add(layers.Dense(512, activation='relu',input_shape=(x_train.shape[1],)))\n",
    "model.add(layers.Dense(256, activation='relu'))\n",
    "model.add(layers.Dense(64, activation='relu'))\n",
    "model.add(layers.Dense(32, activation='relu'))\n",
    "model.add(layers.Dense(16, activation='relu'))\n",
    "# model.add(layers.Dropout(0.4))\n",
    "#model.add(layers.Dense(4, activation='relu'))\n",
    "model.add(layers.Dense(1))\n",
    "model.compile(optimizer='rmsprop', loss='mse', metrics=['mae'])\n",
    "#end edit    \n",
    "# Fitting the RNN to the Training set\n",
    "history=model.fit(x_train, y_train,validation_data=(x_test, y_test), batch_size = 1024, epochs = 20)\n",
    "\n",
    "\n",
    " "
   ]
  },
  {
   "cell_type": "code",
   "execution_count": 8,
   "id": "709ceb8f",
   "metadata": {},
   "outputs": [
    {
     "data": {
      "image/png": "[encoded data removed]",
      "text/plain": [
       "<Figure size 432x288 with 1 Axes>"
      ]
     },
     "metadata": {
      "needs_background": "light"
     },
     "output_type": "display_data"
    },
    {
     "data": {
      "text/plain": [
       "<Figure size 432x288 with 0 Axes>"
      ]
     },
     "metadata": {},
     "output_type": "display_data"
    }
   ],
   "source": [
    "\n",
    "plt.plot(history.history['loss'])\n",
    "plt.title('Model Loss')\n",
    "plt.ylabel('Loss')\n",
    "plt.xlabel('Epoch')\n",
    "plt.show()\n",
    "plt.savefig('C:/Users/Sathish Akula/python_scripts/NWM_ML_Scripts/new scripts/old_script_rerun/Final_rerun/graph_data/model_loss.png')\n",
    "plt.savefig('C:/Users/Sathish Akula/python_scripts/NWM_ML_Scripts/new scripts/old_script_rerun/Final_rerun/graph_data/model_loss.pdf')"
   ]
  },
  {
   "cell_type": "code",
   "execution_count": 9,
   "id": "e812ac1c",
   "metadata": {},
   "outputs": [
    {
     "data": {
      "image/png": "[encoded data removed]",
      "text/plain": [
       "<Figure size 432x288 with 1 Axes>"
      ]
     },
     "metadata": {
      "needs_background": "light"
     },
     "output_type": "display_data"
    },
    {
     "data": {
      "text/plain": [
       "<Figure size 432x288 with 0 Axes>"
      ]
     },
     "metadata": {},
     "output_type": "display_data"
    }
   ],
   "source": [
    "plt.plot(history.history['mae'])\n",
    "plt.title('Model Mae')\n",
    "plt.ylabel('Loss')\n",
    "plt.xlabel('Epoch')\n",
    "plt.show()\n",
    "plt.savefig('C:/Users/Sathish Akula/python_scripts/NWM_ML_Scripts/new scripts/old_script_rerun/Final_rerun/graph_data/model_mae.png')\n",
    "plt.savefig('C:/Users/Sathish Akula/python_scripts/NWM_ML_Scripts/new scripts/old_script_rerun/Final_rerun/graph_data/model_mae.pdf')"
   ]
  },
  {
   "cell_type": "code",
   "execution_count": 11,
   "id": "a4e40095",
   "metadata": {},
   "outputs": [
    {
     "data": {
      "text/plain": [
       "[0.17708465456962585,\n",
       " 0.1632903814315796,\n",
       " 0.1631653904914856,\n",
       " 0.1596340835094452,\n",
       " 0.15888313949108124,\n",
       " 0.1581806242465973,\n",
       " 0.15833069384098053,\n",
       " 0.157690167427063,\n",
       " 0.15565012395381927,\n",
       " 0.15518034994602203,\n",
       " 0.15501070022583008,\n",
       " 0.15455052256584167,\n",
       " 0.1543574333190918,\n",
       " 0.15316462516784668,\n",
       " 0.15405257046222687,\n",
       " 0.15436773002147675,\n",
       " 0.15358157455921173,\n",
       " 0.1534048318862915,\n",
       " 0.1531088799238205,\n",
       " 0.1529938280582428]"
      ]
     },
     "execution_count": 11,
     "metadata": {},
     "output_type": "execute_result"
    }
   ],
   "source": [
    "history.history['mae']"
   ]
  },
  {
   "cell_type": "code",
   "execution_count": 12,
   "id": "7736039d",
   "metadata": {},
   "outputs": [
    {
     "data": {
      "text/plain": [
       "[0.7135439515113831,\n",
       " 0.6886478066444397,\n",
       " 0.6774839758872986,\n",
       " 0.6698009371757507,\n",
       " 0.66269451379776,\n",
       " 0.6598488092422485,\n",
       " 0.6531819105148315,\n",
       " 0.654015839099884,\n",
       " 0.6507630348205566,\n",
       " 0.6479368805885315,\n",
       " 0.6517342925071716,\n",
       " 0.652612030506134,\n",
       " 0.6451146006584167,\n",
       " 0.6418014764785767,\n",
       " 0.6463872194290161,\n",
       " 0.6475543975830078,\n",
       " 0.6443801522254944,\n",
       " 0.6473695039749146,\n",
       " 0.6438984274864197,\n",
       " 0.6440290808677673]"
      ]
     },
     "execution_count": 12,
     "metadata": {},
     "output_type": "execute_result"
    }
   ],
   "source": [
    "history.history['loss']"
   ]
  }
 ],
 "metadata": {
  "kernelspec": {
   "display_name": "Python 3 (ipykernel)",
   "language": "python",
   "name": "python3"
  },
  "language_info": {
   "codemirror_mode": {
    "name": "ipython",
    "version": 3
   },
   "file_extension": ".py",
   "mimetype": "text/x-python",
   "name": "python",
   "nbconvert_exporter": "python",
   "pygments_lexer": "ipython3",
   "version": "3.8.8"
  }
 },
 "nbformat": 4,
 "nbformat_minor": 5
}
