{
 "cells": [
  {
   "cell_type": "markdown",
   "metadata": {},
   "source": [
    "# Preparing Single station data\n",
    "## using numpy and pandas libraries"
   ]
  },
  {
   "cell_type": "code",
   "execution_count": 1,
   "metadata": {},
   "outputs": [],
   "source": [
    "import pandas as pd\n",
    "import numpy as np\n",
    "from sklearn.metrics import mean_squared_error\n",
    "xl = pd.ExcelFile(\"./raw_data/NWM_data_updated.xlsx\", engine='openpyxl')\n",
    "a=xl.sheet_names\n",
    "\n"
   ]
  },
  {
   "cell_type": "code",
   "execution_count": 2,
   "metadata": {},
   "outputs": [],
   "source": [
    "#loading the data set\n",
    "dataframe_collection = {}\n",
    "i=0\n",
    "for i in range(4):\n",
    "    if i==0:\n",
    "        dataframe_collection[i] = xl.parse(a[i],converters={\"STAID_1\":str})\n",
    "    else:\n",
    "        dataframe_collection[i] = xl.parse(a[i])\n",
    "\n",
    "obsflow = dataframe_collection[2]\n",
    "modelflow= dataframe_collection[13]\n",
    "\n"
   ]
  },
  {
   "cell_type": "code",
   "execution_count": 3,
   "metadata": {},
   "outputs": [
    {
     "name": "stdout",
     "output_type": "stream",
     "text": [
      "0\n"
     ]
    }
   ],
   "source": [
    "\n",
    "j=15\n",
    "k=0\n",
    "column_names = [\"dis2sea\",\"landUse\",\"soilTexture1\", \"soilTexture2\",\"soilTexture3\",\"soilTexture4\",\"soilTexture5\",\"soilTexture6\",\"soilTexture7\",\"soilTexture8\",\"soilTexture9\",\"soilTexture10\",\"topoIndex\",\"drainageArea\",\"ModelFlow\",\"Obsflow\"]\n",
    "df = pd.DataFrame(columns = column_names)  \n",
    "for index, row in dataframe_collection[0].iterrows():\n",
    "    print(index)\n",
    "    sta_id = dataframe_collection[0].iloc[index,0]\n",
    "    dis2sea=dataframe_collection[0].iloc[index,1]\n",
    "    land_use=dataframe_collection[0].iloc[index,2]\n",
    "    soil_texture1=dataframe_collection[0].iloc[index,3]\n",
    "    soil_texture2=dataframe_collection[0].iloc[index,4]\n",
    "    soil_texture3=dataframe_collection[0].iloc[index,5]\n",
    "    soil_texture4=dataframe_collection[0].iloc[index,6]\n",
    "    soil_texture5=dataframe_collection[0].iloc[index,7]\n",
    "    soil_texture6=dataframe_collection[0].iloc[index,8]\n",
    "    soil_texture7=dataframe_collection[0].iloc[index,9]\n",
    "    soil_texture8=dataframe_collection[0].iloc[index,10]\n",
    "    soil_texture9=dataframe_collection[0].iloc[index,11]\n",
    "    soil_texture10=dataframe_collection[0].iloc[index,12]\n",
    "    topoindex = dataframe_collection[0].iloc[index,13]\n",
    "    drainagearea =  dataframe_collection[0].iloc[index,14]\n",
    "    obs = obsflow[sta_id]/drainagearea\n",
    "    mod = modelflow[sta_id]/drainagearea\n",
    "\n",
    "    for i in range(979):\n",
    "        df.loc[k]=[dis2sea]+[land_use]+[soil_texture1]+[soil_texture2]+[soil_texture3]+[soil_texture4]+[soil_texture5]+[soil_texture6]+[soil_texture7]+[soil_texture8]+[soil_texture9]+[soil_texture10]+[topoindex]+[drainagearea]+[mod[i]]+[obs[i]]\n",
    "        k=k+1\n"
   ]
  },
  {
   "cell_type": "markdown",
   "metadata": {},
   "source": [
    "# Saving the perpared data"
   ]
  },
  {
   "cell_type": "code",
   "execution_count": 4,
   "metadata": {},
   "outputs": [],
   "source": [
    "df4 =df.dropna()\n",
    "df4\n",
    "df4.to_csv('out_10day_lead_data_single.csv', sep='\\t')"
   ]
  },
  {
   "cell_type": "markdown",
   "metadata": {},
   "source": [
    "# Reading data and the standardizing variables"
   ]
  },
  {
   "cell_type": "code",
   "execution_count": 5,
   "metadata": {},
   "outputs": [],
   "source": [
    "import pandas as pd\n",
    "import numpy as np\n",
    "df = pd.read_csv('out_10day_lead_data_single.csv',delimiter = '\\t')\n",
    "x_mean = pd.read_csv(\"./raw_data/NWM_ML_Scripts/x_mean.csv\", sep='\\t')\n",
    "x_std =  pd.read_csv(\"./raw_data/x_std.csv\", sep='\\t')\n",
    "y_mean =  pd.read_csv(\"./raw_data/y_mean.csv\", sep='\\t')\n",
    "y_std =  pd.read_csv(\"./raw_data/y_std.csv\", sep='\\t')"
   ]
  },
  {
   "cell_type": "code",
   "execution_count": 6,
   "metadata": {},
   "outputs": [],
   "source": [
    "x, y = df.iloc[:, 1:16], df.iloc[:,16]\n",
    "l=10"
   ]
  },
  {
   "cell_type": "code",
   "execution_count": 7,
   "metadata": {},
   "outputs": [],
   "source": [
    "d_area_x = x.iloc[:,13]\n",
    "x-= x_mean.iloc[l,1:16]\n",
    "x /= x_std.iloc[l,1:16]\n"
   ]
  },
  {
   "cell_type": "markdown",
   "metadata": {},
   "source": [
    "# Using keras Load_model library component to load the trained model"
   ]
  },
  {
   "cell_type": "code",
   "execution_count": 1,
   "metadata": {},
   "outputs": [],
   "source": [
    "from keras.models import load_model\n",
    "model = load_model('./temporal_DLmodels/my_model_10_day.h5')\n",
    "model.compile(optimizer='rmsprop', loss='mse', metrics=['mae'])\n"
   ]
  },
  {
   "cell_type": "markdown",
   "metadata": {},
   "source": [
    "# Predicting the results"
   ]
  },
  {
   "cell_type": "code",
   "execution_count": 9,
   "metadata": {},
   "outputs": [
    {
     "data": {
      "text/html": [
       "<div>\n",
       "<style scoped>\n",
       "    .dataframe tbody tr th:only-of-type {\n",
       "        vertical-align: middle;\n",
       "    }\n",
       "\n",
       "    .dataframe tbody tr th {\n",
       "        vertical-align: top;\n",
       "    }\n",
       "\n",
       "    .dataframe thead th {\n",
       "        text-align: right;\n",
       "    }\n",
       "</style>\n",
       "<table border=\"1\" class=\"dataframe\">\n",
       "  <thead>\n",
       "    <tr style=\"text-align: right;\">\n",
       "      <th></th>\n",
       "      <th>Modelflow</th>\n",
       "      <th>Obsflow</th>\n",
       "      <th>Error</th>\n",
       "    </tr>\n",
       "  </thead>\n",
       "  <tbody>\n",
       "    <tr>\n",
       "      <th>0</th>\n",
       "      <td>232.436870</td>\n",
       "      <td>396.435858</td>\n",
       "      <td>166.095631</td>\n",
       "    </tr>\n",
       "    <tr>\n",
       "      <th>1</th>\n",
       "      <td>212.933745</td>\n",
       "      <td>538.020093</td>\n",
       "      <td>148.804410</td>\n",
       "    </tr>\n",
       "    <tr>\n",
       "      <th>2</th>\n",
       "      <td>203.080620</td>\n",
       "      <td>509.703246</td>\n",
       "      <td>138.758597</td>\n",
       "    </tr>\n",
       "    <tr>\n",
       "      <th>3</th>\n",
       "      <td>186.608121</td>\n",
       "      <td>574.831994</td>\n",
       "      <td>121.295108</td>\n",
       "    </tr>\n",
       "    <tr>\n",
       "      <th>4</th>\n",
       "      <td>192.833746</td>\n",
       "      <td>512.534931</td>\n",
       "      <td>128.057463</td>\n",
       "    </tr>\n",
       "    <tr>\n",
       "      <th>...</th>\n",
       "      <td>...</td>\n",
       "      <td>...</td>\n",
       "      <td>...</td>\n",
       "    </tr>\n",
       "    <tr>\n",
       "      <th>849</th>\n",
       "      <td>109.151248</td>\n",
       "      <td>112.134714</td>\n",
       "      <td>55.724151</td>\n",
       "    </tr>\n",
       "    <tr>\n",
       "      <th>850</th>\n",
       "      <td>99.749998</td>\n",
       "      <td>101.657481</td>\n",
       "      <td>49.550283</td>\n",
       "    </tr>\n",
       "    <tr>\n",
       "      <th>851</th>\n",
       "      <td>96.356248</td>\n",
       "      <td>102.223818</td>\n",
       "      <td>47.014818</td>\n",
       "    </tr>\n",
       "    <tr>\n",
       "      <th>852</th>\n",
       "      <td>96.449998</td>\n",
       "      <td>94.011932</td>\n",
       "      <td>47.085913</td>\n",
       "    </tr>\n",
       "    <tr>\n",
       "      <th>853</th>\n",
       "      <td>95.283748</td>\n",
       "      <td>75.322813</td>\n",
       "      <td>46.201637</td>\n",
       "    </tr>\n",
       "  </tbody>\n",
       "</table>\n",
       "<p>854 rows × 3 columns</p>\n",
       "</div>"
      ],
      "text/plain": [
       "      Modelflow     Obsflow       Error\n",
       "0    232.436870  396.435858  166.095631\n",
       "1    212.933745  538.020093  148.804410\n",
       "2    203.080620  509.703246  138.758597\n",
       "3    186.608121  574.831994  121.295108\n",
       "4    192.833746  512.534931  128.057463\n",
       "..          ...         ...         ...\n",
       "849  109.151248  112.134714   55.724151\n",
       "850   99.749998  101.657481   49.550283\n",
       "851   96.356248  102.223818   47.014818\n",
       "852   96.449998   94.011932   47.085913\n",
       "853   95.283748   75.322813   46.201637\n",
       "\n",
       "[854 rows x 3 columns]"
      ]
     },
     "execution_count": 9,
     "metadata": {},
     "output_type": "execute_result"
    }
   ],
   "source": [
    "z=model.predict(x)\n",
    "l=10\n",
    "\n",
    "x=x*x_std.iloc[l,1:16]\n",
    "x=x +x_mean.iloc[l,1:16]\n",
    "            \n",
    "\n",
    "x.iloc[:,14]=x.iloc[:,14]*d_area_x\n",
    "\n",
    "\n",
    "y=y*d_area_x\n",
    "\n",
    "z = y_std.iloc[l,1]*z\n",
    "z= z+y_mean.iloc[l,1]\n",
    "\n",
    "d_area_x=np.array(d_area_x)\n",
    "d_area_x.shape = [d_area_x.shape[0],1]\n",
    "z=z*d_area_x\n",
    "\n",
    "\n",
    "d_x= pd.DataFrame(x.iloc[:,14])\n",
    "d_y=pd.DataFrame(y)\n",
    "d_z=pd.DataFrame(z)\n",
    "d_xy=pd.concat([d_x, d_y,d_z], axis=1)\n",
    "d_xy.columns = ['Modelflow', 'Obsflow','Error']\n",
    "d_xy\n",
    "\n"
   ]
  },
  {
   "cell_type": "markdown",
   "metadata": {},
   "source": [
    "# Saving the results to a file"
   ]
  },
  {
   "cell_type": "code",
   "execution_count": 10,
   "metadata": {},
   "outputs": [],
   "source": [
    "d_xy.to_csv(\"./graph_data/Error_WholeData_abs.csv\")"
   ]
  },
  {
   "cell_type": "markdown",
   "metadata": {},
   "source": [
    "# DL Model Summary"
   ]
  },
  {
   "cell_type": "code",
   "execution_count": 2,
   "metadata": {},
   "outputs": [
    {
     "name": "stdout",
     "output_type": "stream",
     "text": [
      "Model: \"sequential_40\"\n",
      "_________________________________________________________________\n",
      " Layer (type)                Output Shape              Param #   \n",
      "=================================================================\n",
      " dense_240 (Dense)           (None, 512)               8192      \n",
      "                                                                 \n",
      " dense_241 (Dense)           (None, 256)               131328    \n",
      "                                                                 \n",
      " dense_242 (Dense)           (None, 64)                16448     \n",
      "                                                                 \n",
      " dense_243 (Dense)           (None, 32)                2080      \n",
      "                                                                 \n",
      " dense_244 (Dense)           (None, 16)                528       \n",
      "                                                                 \n",
      " dense_245 (Dense)           (None, 1)                 17        \n",
      "                                                                 \n",
      "=================================================================\n",
      "Total params: 158,593\n",
      "Trainable params: 158,593\n",
      "Non-trainable params: 0\n",
      "_________________________________________________________________\n"
     ]
    }
   ],
   "source": [
    "model.summary()"
   ]
  }
 ],
 "metadata": {
  "kernelspec": {
   "display_name": "Python 3 (ipykernel)",
   "language": "python",
   "name": "python3"
  },
  "language_info": {
   "codemirror_mode": {
    "name": "ipython",
    "version": 3
   },
   "file_extension": ".py",
   "mimetype": "text/x-python",
   "name": "python",
   "nbconvert_exporter": "python",
   "pygments_lexer": "ipython3",
   "version": "3.8.8"
  }
 },
 "nbformat": 4,
 "nbformat_minor": 4
}
